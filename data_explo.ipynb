{
 "cells": [
  {
   "cell_type": "code",
   "execution_count": 2,
   "id": "c8016b43-f446-47b7-882c-758820d011b4",
   "metadata": {},
   "outputs": [
    {
     "name": "stdout",
     "output_type": "stream",
     "text": [
      "   id  added_on_year              type  bedrooms bathrooms toilets  \\\n",
      "0   1           2025  Flat / Apartment         3         4       4   \n",
      "1   2           2025   Detached Duplex         6         6       7   \n",
      "2   3           2025   Detached Duplex         5         5       6   \n",
      "3   4           2025   Detached Duplex         5         5       6   \n",
      "4   5           2025             House         5         5       6   \n",
      "\n",
      "  parking_spaces             town  state           price  \n",
      "0              2             Jahi  Abuja    ₦130,000,000  \n",
      "1             20  Guzape District  Abuja  ₦2,000,000,000  \n",
      "2              6  Guzape District  Abuja    ₦850,000,000  \n",
      "3        Unknown  Guzape District  Abuja    ₦950,000,000  \n",
      "4        Unknown  Guzape District  Abuja    ₦500,000,000  \n"
     ]
    }
   ],
   "source": [
    "import pandas as pd\n",
    "\n",
    "# Load the dataset\n",
    "df = pd.read_csv('abuja_listings.csv')\n",
    "\n",
    "# Display the first few rows of the dataset\n",
    "print(df.head())\n"
   ]
  },
  {
   "cell_type": "code",
   "execution_count": 3,
   "id": "d8b80c7e-20c0-4fd8-a8a4-d0464e7e7ed2",
   "metadata": {},
   "outputs": [
    {
     "name": "stdout",
     "output_type": "stream",
     "text": [
      "id                   0\n",
      "added_on_year        0\n",
      "type                 0\n",
      "bedrooms             0\n",
      "bathrooms          716\n",
      "toilets            403\n",
      "parking_spaces    3058\n",
      "town                 0\n",
      "state                0\n",
      "price                0\n",
      "dtype: int64\n"
     ]
    }
   ],
   "source": [
    "import numpy as np\n",
    "\n",
    "# Replace 'Unknown' with NaN for easier handling\n",
    "df.replace('Unknown', np.nan, inplace=True)\n",
    "\n",
    "# Verify the changes\n",
    "print(df.isnull().sum())\n"
   ]
  },
  {
   "cell_type": "code",
   "execution_count": 4,
   "id": "052c0992-9407-49b7-b6d3-ccb1516c5d4d",
   "metadata": {},
   "outputs": [
    {
     "name": "stdout",
     "output_type": "stream",
     "text": [
      "<class 'pandas.core.frame.DataFrame'>\n",
      "RangeIndex: 7224 entries, 0 to 7223\n",
      "Data columns (total 10 columns):\n",
      " #   Column          Non-Null Count  Dtype \n",
      "---  ------          --------------  ----- \n",
      " 0   id              7224 non-null   int64 \n",
      " 1   added_on_year   7224 non-null   int64 \n",
      " 2   type            7224 non-null   object\n",
      " 3   bedrooms        7224 non-null   int64 \n",
      " 4   bathrooms       6508 non-null   object\n",
      " 5   toilets         6821 non-null   object\n",
      " 6   parking_spaces  4166 non-null   object\n",
      " 7   town            7224 non-null   object\n",
      " 8   state           7224 non-null   object\n",
      " 9   price           7224 non-null   object\n",
      "dtypes: int64(3), object(7)\n",
      "memory usage: 564.5+ KB\n",
      "None\n",
      "id                   0\n",
      "added_on_year        0\n",
      "type                 0\n",
      "bedrooms             0\n",
      "bathrooms          716\n",
      "toilets            403\n",
      "parking_spaces    3058\n",
      "town                 0\n",
      "state                0\n",
      "price                0\n",
      "dtype: int64\n"
     ]
    }
   ],
   "source": [
    "# Display basic information about the dataset\n",
    "print(df.info())\n",
    "\n",
    "# Check for missing values again to get an accurate count\n",
    "print(df.isnull().sum())\n"
   ]
  },
  {
   "cell_type": "code",
   "execution_count": 5,
   "id": "d8bb4335-1bb3-4947-91dd-7c2aa5db530b",
   "metadata": {},
   "outputs": [
    {
     "name": "stdout",
     "output_type": "stream",
     "text": [
      "Number of rows with 'No price available': 163\n",
      "(7061, 10)\n",
      "id                   0\n",
      "added_on_year        0\n",
      "type                 0\n",
      "bedrooms             0\n",
      "bathrooms          708\n",
      "toilets            397\n",
      "parking_spaces    3043\n",
      "town                 0\n",
      "state                0\n",
      "price                0\n",
      "dtype: int64\n"
     ]
    }
   ],
   "source": [
    "# Identify rows with 'No price available' in the 'price' column\n",
    "no_price_count = df[df['price'] == 'No price available'].shape[0]\n",
    "\n",
    "# Display the count\n",
    "print(f\"Number of rows with 'No price available': {no_price_count}\")\n",
    "\n",
    "# Option 1: Drop rows with 'No price available'\n",
    "df = df[df['price'] != 'No price available']\n",
    "\n",
    "# Verify the changes\n",
    "print(df.shape)\n",
    "print(df.isnull().sum())\n"
   ]
  },
  {
   "cell_type": "code",
   "execution_count": 6,
   "id": "a2cf5d99-099e-4d84-a3ee-f9dc59503a54",
   "metadata": {},
   "outputs": [
    {
     "name": "stdout",
     "output_type": "stream",
     "text": [
      "<class 'pandas.core.frame.DataFrame'>\n",
      "Index: 7061 entries, 0 to 7223\n",
      "Data columns (total 10 columns):\n",
      " #   Column          Non-Null Count  Dtype  \n",
      "---  ------          --------------  -----  \n",
      " 0   id              7061 non-null   int64  \n",
      " 1   added_on_year   7061 non-null   int64  \n",
      " 2   type            7061 non-null   object \n",
      " 3   bedrooms        7061 non-null   int64  \n",
      " 4   bathrooms       6353 non-null   object \n",
      " 5   toilets         6664 non-null   object \n",
      " 6   parking_spaces  4018 non-null   object \n",
      " 7   town            7061 non-null   object \n",
      " 8   state           7061 non-null   object \n",
      " 9   price           7061 non-null   float64\n",
      "dtypes: float64(1), int64(3), object(6)\n",
      "memory usage: 606.8+ KB\n",
      "None\n",
      "id                   0\n",
      "added_on_year        0\n",
      "type                 0\n",
      "bedrooms             0\n",
      "bathrooms          708\n",
      "toilets            397\n",
      "parking_spaces    3043\n",
      "town                 0\n",
      "state                0\n",
      "price                0\n",
      "dtype: int64\n"
     ]
    }
   ],
   "source": [
    "# Remove currency symbols and commas, then convert 'price' to numeric\n",
    "df['price'] = df['price'].replace({'₦': '', ',': ''}, regex=True).astype(float)\n",
    "\n",
    "# Verify the changes\n",
    "print(df.info())\n",
    "print(df.isnull().sum())\n"
   ]
  },
  {
   "cell_type": "code",
   "execution_count": 7,
   "id": "046137a9-9478-43a9-ac2a-3e0e630a5106",
   "metadata": {},
   "outputs": [
    {
     "name": "stdout",
     "output_type": "stream",
     "text": [
      "   id  added_on_year              type  bedrooms bathrooms toilets  \\\n",
      "0   1           2025  Flat / Apartment         3         4       4   \n",
      "1   2           2025   Detached Duplex         6         6       7   \n",
      "2   3           2025   Detached Duplex         5         5       6   \n",
      "3   4           2025   Detached Duplex         5         5       6   \n",
      "4   5           2025             House         5         5       6   \n",
      "\n",
      "  parking_spaces             town  state         price  \n",
      "0              2             Jahi  Abuja  1.300000e+08  \n",
      "1             20  Guzape District  Abuja  2.000000e+09  \n",
      "2              6  Guzape District  Abuja  8.500000e+08  \n",
      "3            NaN  Guzape District  Abuja  9.500000e+08  \n",
      "4            NaN  Guzape District  Abuja  5.000000e+08  \n"
     ]
    }
   ],
   "source": [
    "print(df.head())"
   ]
  },
  {
   "cell_type": "code",
   "execution_count": 8,
   "id": "426426a0-5ce6-48b1-91f3-d8bea2ff69e3",
   "metadata": {
    "scrolled": true
   },
   "outputs": [
    {
     "name": "stdout",
     "output_type": "stream",
     "text": [
      "<class 'pandas.core.frame.DataFrame'>\n",
      "Index: 7061 entries, 0 to 7223\n",
      "Data columns (total 10 columns):\n",
      " #   Column          Non-Null Count  Dtype  \n",
      "---  ------          --------------  -----  \n",
      " 0   id              7061 non-null   int64  \n",
      " 1   added_on_year   7061 non-null   int64  \n",
      " 2   type            7061 non-null   object \n",
      " 3   bedrooms        7061 non-null   int64  \n",
      " 4   bathrooms       6353 non-null   float64\n",
      " 5   toilets         6664 non-null   float64\n",
      " 6   parking_spaces  4018 non-null   float64\n",
      " 7   town            7061 non-null   object \n",
      " 8   state           7061 non-null   object \n",
      " 9   price           7061 non-null   float64\n",
      "dtypes: float64(4), int64(3), object(3)\n",
      "memory usage: 606.8+ KB\n",
      "None\n",
      "id                   0\n",
      "added_on_year        0\n",
      "type                 0\n",
      "bedrooms             0\n",
      "bathrooms          708\n",
      "toilets            397\n",
      "parking_spaces    3043\n",
      "town                 0\n",
      "state                0\n",
      "price                0\n",
      "dtype: int64\n"
     ]
    }
   ],
   "source": [
    "# Convert 'bathrooms', 'toilets', and 'parking_spaces' columns to numeric\n",
    "df['bathrooms'] = pd.to_numeric(df['bathrooms'], errors='coerce')\n",
    "df['toilets'] = pd.to_numeric(df['toilets'], errors='coerce')\n",
    "df['parking_spaces'] = pd.to_numeric(df['parking_spaces'], errors='coerce')\n",
    "\n",
    "# Verify the changes\n",
    "print(df.info())\n",
    "print(df.isnull().sum())\n"
   ]
  },
  {
   "cell_type": "code",
   "execution_count": 9,
   "id": "e75b6b96-e604-44e7-965a-3799116a9b0f",
   "metadata": {},
   "outputs": [
    {
     "name": "stdout",
     "output_type": "stream",
     "text": [
      "<class 'pandas.core.frame.DataFrame'>\n",
      "Index: 7061 entries, 0 to 7223\n",
      "Data columns (total 9 columns):\n",
      " #   Column         Non-Null Count  Dtype  \n",
      "---  ------         --------------  -----  \n",
      " 0   id             7061 non-null   int64  \n",
      " 1   added_on_year  7061 non-null   int64  \n",
      " 2   type           7061 non-null   object \n",
      " 3   bedrooms       7061 non-null   int64  \n",
      " 4   bathrooms      6353 non-null   float64\n",
      " 5   toilets        6664 non-null   float64\n",
      " 6   town           7061 non-null   object \n",
      " 7   state          7061 non-null   object \n",
      " 8   price          7061 non-null   float64\n",
      "dtypes: float64(3), int64(3), object(3)\n",
      "memory usage: 551.6+ KB\n",
      "None\n",
      "id                 0\n",
      "added_on_year      0\n",
      "type               0\n",
      "bedrooms           0\n",
      "bathrooms        708\n",
      "toilets          397\n",
      "town               0\n",
      "state              0\n",
      "price              0\n",
      "dtype: int64\n"
     ]
    }
   ],
   "source": [
    "# Drop the 'parking_spaces' column\n",
    "df = df.drop(columns=['parking_spaces'])\n",
    "\n",
    "# Verify the changes\n",
    "print(df.info())\n",
    "print(df.isnull().sum())\n"
   ]
  },
  {
   "cell_type": "code",
   "execution_count": 11,
   "id": "1003cf4e-4e9f-4c2b-a9a0-bdb9a7284c63",
   "metadata": {},
   "outputs": [
    {
     "name": "stdout",
     "output_type": "stream",
     "text": [
      "id                 0\n",
      "added_on_year      0\n",
      "type               0\n",
      "bedrooms           0\n",
      "bathrooms          0\n",
      "toilets          397\n",
      "town               0\n",
      "state              0\n",
      "price              0\n",
      "dtype: int64\n"
     ]
    }
   ],
   "source": [
    "# Fill missing values in 'bathrooms' with corresponding values from 'bedrooms'\n",
    "df['bathrooms'] = df['bathrooms'].fillna(df['bedrooms'])\n",
    "\n",
    "# Verify the changes\n",
    "print(df.isnull().sum())\n"
   ]
  },
  {
   "cell_type": "code",
   "execution_count": 12,
   "id": "502b5b0c-101a-4aa2-b30a-870c227bcfc7",
   "metadata": {},
   "outputs": [
    {
     "name": "stdout",
     "output_type": "stream",
     "text": [
      "<class 'pandas.core.frame.DataFrame'>\n",
      "Index: 7061 entries, 0 to 7223\n",
      "Data columns (total 8 columns):\n",
      " #   Column         Non-Null Count  Dtype  \n",
      "---  ------         --------------  -----  \n",
      " 0   id             7061 non-null   int64  \n",
      " 1   added_on_year  7061 non-null   int64  \n",
      " 2   type           7061 non-null   object \n",
      " 3   bedrooms       7061 non-null   int64  \n",
      " 4   bathrooms      7061 non-null   float64\n",
      " 5   town           7061 non-null   object \n",
      " 6   state          7061 non-null   object \n",
      " 7   price          7061 non-null   float64\n",
      "dtypes: float64(2), int64(3), object(3)\n",
      "memory usage: 496.5+ KB\n",
      "None\n",
      "id               0\n",
      "added_on_year    0\n",
      "type             0\n",
      "bedrooms         0\n",
      "bathrooms        0\n",
      "town             0\n",
      "state            0\n",
      "price            0\n",
      "dtype: int64\n"
     ]
    }
   ],
   "source": [
    "# Drop the 'toilets' column\n",
    "df = df.drop(columns=['toilets'])\n",
    "\n",
    "# Verify the changes\n",
    "print(df.info())\n",
    "print(df.isnull().sum())\n"
   ]
  },
  {
   "cell_type": "code",
   "execution_count": 13,
   "id": "0715c3e1-c9e9-4d2e-98cf-42d885602ded",
   "metadata": {},
   "outputs": [
    {
     "name": "stdout",
     "output_type": "stream",
     "text": [
      "        id  added_on_year              type  bedrooms  bathrooms  \\\n",
      "52      53           2025   Detached Duplex        13       13.0   \n",
      "62      63           2025             House        11       11.0   \n",
      "65      66           2025   Detached Duplex        25       25.0   \n",
      "108    109           2025   Detached Duplex        12       12.0   \n",
      "112    113           2025   Detached Duplex        10       12.0   \n",
      "...    ...            ...               ...       ...        ...   \n",
      "7010  7011           2023  Flat / Apartment        24       24.0   \n",
      "7063  7064           2023   Detached Duplex        11       11.0   \n",
      "7126  7127           2023   Detached Duplex        16       16.0   \n",
      "7129  7130           2023   Detached Duplex        16       16.0   \n",
      "7177  7178           2023  Flat / Apartment        20       20.0   \n",
      "\n",
      "                  town  state         price  \n",
      "52    Maitama District  Abuja  6.000000e+09  \n",
      "62     Guzape District  Abuja  3.000000e+09  \n",
      "65          Galadimawa  Abuja  1.000000e+09  \n",
      "108   Maitama District  Abuja  5.500000e+09  \n",
      "112   Asokoro District  Abuja  3.700000e+09  \n",
      "...                ...    ...           ...  \n",
      "7010           Katampe  Abuja  1.000000e+09  \n",
      "7063  Asokoro District  Abuja  3.900000e+09  \n",
      "7126              Jahi  Abuja  7.000000e+08  \n",
      "7129              Jahi  Abuja  7.000000e+08  \n",
      "7177           Katampe  Abuja  1.500000e+09  \n",
      "\n",
      "[127 rows x 8 columns]\n"
     ]
    }
   ],
   "source": [
    "# Identify listings with more than 10 bedrooms\n",
    "high_bedroom_listings = df[df['bedrooms'] >= 10]\n",
    "\n",
    "# Display these listings\n",
    "print(high_bedroom_listings)\n"
   ]
  },
  {
   "cell_type": "code",
   "execution_count": 14,
   "id": "db1dba2a-ad41-4267-b822-fcf2c99e7037",
   "metadata": {},
   "outputs": [
    {
     "name": "stdout",
     "output_type": "stream",
     "text": [
      "(6934, 8)\n",
      "                id  added_on_year     bedrooms    bathrooms         price\n",
      "count  6934.000000    6934.000000  6934.000000  6934.000000  6.934000e+03\n",
      "mean   3607.979233    2024.080617     4.323190     4.684309  1.096406e+09\n",
      "std    2079.311527       0.522387     1.340529     1.759848  2.383016e+10\n",
      "min       1.000000    2023.000000     1.000000     1.000000  1.100000e+05\n",
      "25%    1813.250000    2024.000000     4.000000     4.000000  1.350000e+08\n",
      "50%    3604.500000    2024.000000     4.000000     5.000000  2.500000e+08\n",
      "75%    5405.750000    2024.000000     5.000000     5.000000  5.000000e+08\n",
      "max    7224.000000    2025.000000     9.000000    55.000000  1.400000e+12\n"
     ]
    }
   ],
   "source": [
    "# Drop listings with more than 10 bedrooms\n",
    "df = df[df['bedrooms'] < 10]\n",
    "\n",
    "# Verify the changes\n",
    "print(df.shape)\n",
    "print(df.describe())\n"
   ]
  },
  {
   "cell_type": "code",
   "execution_count": 15,
   "id": "bd2f8f62-0f82-4d0b-861f-4cc3d5d77d04",
   "metadata": {},
   "outputs": [
    {
     "name": "stdout",
     "output_type": "stream",
     "text": [
      "        id  added_on_year               type  bedrooms  bathrooms  \\\n",
      "355    356           2024   Flat / Apartment         8       16.0   \n",
      "607    608           2025    Detached Duplex         9       15.0   \n",
      "917    918           2024    Detached Duplex         9       16.0   \n",
      "1398  1399           2023    Detached Duplex         8       12.0   \n",
      "1867  1868           2024    Detached Duplex         7       12.0   \n",
      "2304  2305           2023    Terraced Duplex         4       40.0   \n",
      "4488  4489           2024    Detached Duplex         9       12.0   \n",
      "4581  4582           2024              House         8       12.0   \n",
      "4586  4587           2024              House         8       12.0   \n",
      "4669  4670           2025  Detached Bungalow         3       55.0   \n",
      "4860  4861           2024    Detached Duplex         8       12.0   \n",
      "4911  4912           2024    Detached Duplex         8       12.0   \n",
      "5136  5137           2024    Detached Duplex         9       12.0   \n",
      "5180  5181           2024    Terraced Duplex         4       45.0   \n",
      "5296  5297           2024   Flat / Apartment         1       23.0   \n",
      "5517  5518           2024    Detached Duplex         9       12.0   \n",
      "6229  6230           2024    Detached Duplex         8       12.0   \n",
      "7163  7164           2023    Detached Duplex         9       15.0   \n",
      "\n",
      "                  town  state         price  \n",
      "355              Kubwa  Abuja  3.500000e+08  \n",
      "607   Maitama District  Abuja  1.000000e+10  \n",
      "917   Asokoro District  Abuja  3.000000e+09  \n",
      "1398  Maitama District  Abuja  5.500000e+09  \n",
      "1867   Guzape District  Abuja  2.200000e+09  \n",
      "2304           Katampe  Abuja  3.000000e+09  \n",
      "4488   Guzape District  Abuja  2.500000e+09  \n",
      "4581             Kubwa  Abuja  2.300000e+08  \n",
      "4586             Kubwa  Abuja  2.300000e+08  \n",
      "4669    Lugbe District  Abuja  5.500000e+07  \n",
      "4860          Gwarinpa  Abuja  7.000000e+08  \n",
      "4911  Maitama District  Abuja  8.500000e+09  \n",
      "5136          Gwarinpa  Abuja  2.500000e+08  \n",
      "5180           Mabushi  Abuja  2.400000e+08  \n",
      "5296              Jabi  Abuja  1.600000e+08  \n",
      "5517  Maitama District  Abuja  8.050000e+09  \n",
      "6229  Maitama District  Abuja  4.500000e+09  \n",
      "7163           Katampe  Abuja  1.200000e+09  \n"
     ]
    }
   ],
   "source": [
    "# Identify listings with more than a reasonable number of bathrooms (e.g., >10)\n",
    "high_bathroom_listings = df[df['bathrooms'] > 10]\n",
    "\n",
    "# Display these listings\n",
    "print(high_bathroom_listings)\n"
   ]
  },
  {
   "cell_type": "code",
   "execution_count": 16,
   "id": "309e20bb-5c38-4015-8fdb-45d253b155b9",
   "metadata": {},
   "outputs": [
    {
     "name": "stdout",
     "output_type": "stream",
     "text": [
      "(6916, 8)\n",
      "                id  added_on_year     bedrooms    bathrooms         price\n",
      "count  6916.000000    6916.000000  6916.000000  6916.000000  6.916000e+03\n",
      "mean   3607.236264    2024.080972     4.315789     4.646617  1.091934e+09\n",
      "std    2079.432829       0.522336     1.328932     1.458926  2.386046e+10\n",
      "min       1.000000    2023.000000     1.000000     1.000000  1.100000e+05\n",
      "25%    1812.750000    2024.000000     4.000000     4.000000  1.350000e+08\n",
      "50%    3601.500000    2024.000000     4.000000     5.000000  2.500000e+08\n",
      "75%    5407.250000    2024.000000     5.000000     5.000000  4.825000e+08\n",
      "max    7224.000000    2025.000000     9.000000    10.000000  1.400000e+12\n"
     ]
    }
   ],
   "source": [
    "# Drop listings with more than 10 bathrooms\n",
    "df = df[df['bathrooms'] <= 10]\n",
    "\n",
    "# Verify the changes\n",
    "print(df.shape)\n",
    "print(df.describe())\n"
   ]
  },
  {
   "cell_type": "code",
   "execution_count": 18,
   "id": "01f34ea8-4f7b-4932-9954-a9005d34bd0b",
   "metadata": {},
   "outputs": [
    {
     "name": "stdout",
     "output_type": "stream",
     "text": [
      "Number of duplicate entries: 0\n"
     ]
    }
   ],
   "source": [
    "duplicates = df.duplicated()\n",
    "print(f\"Number of duplicate entries: {duplicates.sum()}\")"
   ]
  },
  {
   "cell_type": "code",
   "execution_count": 19,
   "id": "3e28fee1-f402-4f1f-84a0-d790cd5ce19a",
   "metadata": {},
   "outputs": [
    {
     "name": "stdout",
     "output_type": "stream",
     "text": [
      "<class 'pandas.core.frame.DataFrame'>\n",
      "Index: 6916 entries, 0 to 7223\n",
      "Data columns (total 7 columns):\n",
      " #   Column         Non-Null Count  Dtype  \n",
      "---  ------         --------------  -----  \n",
      " 0   id             6916 non-null   int64  \n",
      " 1   added_on_year  6916 non-null   int64  \n",
      " 2   type           6916 non-null   object \n",
      " 3   bedrooms       6916 non-null   int64  \n",
      " 4   bathrooms      6916 non-null   float64\n",
      " 5   town           6916 non-null   object \n",
      " 6   price          6916 non-null   float64\n",
      "dtypes: float64(2), int64(3), object(2)\n",
      "memory usage: 432.2+ KB\n",
      "None\n"
     ]
    }
   ],
   "source": [
    "# Drop the 'state' column\n",
    "df = df.drop(columns=['state'])\n",
    "\n",
    "# Verify the changes\n",
    "print(df.info())\n"
   ]
  },
  {
   "cell_type": "code",
   "execution_count": 20,
   "id": "c170be15-a024-40f7-97e8-ab5e24a21ced",
   "metadata": {},
   "outputs": [
    {
     "name": "stdout",
     "output_type": "stream",
     "text": [
      "        id  added_on_year              type  bedrooms  bathrooms  \\\n",
      "0        1           2025  Flat / Apartment         3        4.0   \n",
      "1        2           2025   Detached Duplex         6        6.0   \n",
      "2        3           2025   Detached Duplex         5        5.0   \n",
      "3        4           2025   Detached Duplex         5        5.0   \n",
      "4        5           2025             House         5        5.0   \n",
      "...    ...            ...               ...       ...        ...   \n",
      "7219  7220           2023   Terraced Duplex         4        4.0   \n",
      "7220  7221           2023   Detached Duplex         4        5.0   \n",
      "7221  7222           2023             House         2        3.0   \n",
      "7222  7223           2023   Terraced Duplex         3        3.0   \n",
      "7223  7224           2023   Terraced Duplex         5        6.0   \n",
      "\n",
      "                  town         price  \n",
      "0                 Jahi  1.300000e+08  \n",
      "1      Guzape District  2.000000e+09  \n",
      "2      Guzape District  8.500000e+08  \n",
      "3      Guzape District  9.500000e+08  \n",
      "4      Guzape District  5.000000e+08  \n",
      "...                ...           ...  \n",
      "7219              Wuye  3.000000e+08  \n",
      "7220               Apo  9.000000e+07  \n",
      "7221               Apo  3.000000e+07  \n",
      "7222    Idu Industrial  5.500000e+07  \n",
      "7223  Asokoro District  1.600000e+09  \n",
      "\n",
      "[6916 rows x 7 columns]\n"
     ]
    }
   ],
   "source": [
    "print(df)\n"
   ]
  },
  {
   "cell_type": "code",
   "execution_count": 21,
   "id": "93565ddf-8680-4e12-a721-acf8673255ea",
   "metadata": {},
   "outputs": [
    {
     "name": "stdout",
     "output_type": "stream",
     "text": [
      "DataFrame saved as 'cleaned_abuja_listings.csv'. You can now review the file.\n"
     ]
    }
   ],
   "source": [
    "# Save the current state of the DataFrame to a CSV file\n",
    "df.to_csv('cleaned_abuja_listings.csv', index=False)\n",
    "\n",
    "# Confirm the file has been saved\n",
    "print(\"DataFrame saved as 'cleaned_abuja_listings.csv'. You can now review the file.\")\n"
   ]
  },
  {
   "cell_type": "code",
   "execution_count": 23,
   "id": "aeeffefc-d438-4109-9806-bb8c90feb0d2",
   "metadata": {},
   "outputs": [
    {
     "name": "stdout",
     "output_type": "stream",
     "text": [
      "        id  added_on_year   type  bedrooms  bathrooms                  town  \\\n",
      "4        5           2025  House         5        5.0       Guzape District   \n",
      "131    132           2025  House         4        4.0              Gwarinpa   \n",
      "132    133           2024  House         3        3.0                   Apo   \n",
      "135    136           2024  House         5        5.0               Katampe   \n",
      "232    233           2025  House         5        7.0  Central Area Phase 2   \n",
      "...    ...            ...    ...       ...        ...                   ...   \n",
      "7180  7181           2023  House         4        4.0                  Wuye   \n",
      "7200  7201           2023  House         2        3.0                   Apo   \n",
      "7201  7202           2023  House         3        4.0                 Karmo   \n",
      "7204  7205           2023  House         4        4.0                  Wuye   \n",
      "7221  7222           2023  House         2        3.0                   Apo   \n",
      "\n",
      "            price  \n",
      "4     500000000.0  \n",
      "131   150000000.0  \n",
      "132    45000000.0  \n",
      "135   450000000.0  \n",
      "232   700000000.0  \n",
      "...           ...  \n",
      "7180   85000000.0  \n",
      "7200   30000000.0  \n",
      "7201  100000000.0  \n",
      "7204   85000000.0  \n",
      "7221   30000000.0  \n",
      "\n",
      "[299 rows x 7 columns]\n"
     ]
    }
   ],
   "source": [
    "# Identify listings with type as \"House\"\n",
    "house_type_listings = df[df['type'] == 'House']\n",
    "\n",
    "# Display these listings\n",
    "print(house_type_listings)\n"
   ]
  },
  {
   "cell_type": "code",
   "execution_count": 25,
   "id": "ec1f54b6-bdf1-4c06-a0f6-78c7017b1cfc",
   "metadata": {},
   "outputs": [
    {
     "name": "stdout",
     "output_type": "stream",
     "text": [
      "(6617, 7)\n",
      "['Flat / Apartment' 'Detached Duplex' 'Terraced Duplex'\n",
      " 'Terraced Bungalow' 'Detached Bungalow']\n"
     ]
    }
   ],
   "source": [
    "# Drop listings with type as 'house'\n",
    "df = df[df['type'] != 'House']\n",
    "\n",
    "# Verify the changes\n",
    "print(df.shape)\n",
    "print(df['type'].unique())\n"
   ]
  },
  {
   "cell_type": "code",
   "execution_count": 26,
   "id": "ee7046e7-e7cc-4d32-914b-f3b80e37ce40",
   "metadata": {},
   "outputs": [
    {
     "name": "stdout",
     "output_type": "stream",
     "text": [
      "DataFrame saved as 'cleaned_abuja_listings.csv'. You can now review the file.\n"
     ]
    }
   ],
   "source": [
    "# Save the current state of the DataFrame to a CSV file\n",
    "df.to_csv('cleaned_abuja_listings.csv', index=False)\n",
    "\n",
    "# Confirm the file has been saved\n",
    "print(\"DataFrame saved as 'cleaned_abuja_listings.csv'. You can now review the file.\")\n"
   ]
  },
  {
   "cell_type": "code",
   "execution_count": 27,
   "id": "d4c3eb8d-198b-4b1e-acc8-67aab9311ea3",
   "metadata": {},
   "outputs": [
    {
     "name": "stdout",
     "output_type": "stream",
     "text": [
      "               type             town\n",
      "0  Flat / Apartment             Jahi\n",
      "1   Detached Duplex  Guzape District\n",
      "2   Detached Duplex  Guzape District\n",
      "3   Detached Duplex  Guzape District\n",
      "5   Terraced Duplex             Jahi\n"
     ]
    }
   ],
   "source": [
    "# Remove leading/trailing spaces in 'type' and 'town' columns\n",
    "df['type'] = df['type'].str.strip()\n",
    "df['town'] = df['town'].str.strip()\n",
    "\n",
    "# Verify the changes\n",
    "print(df[['type', 'town']].head())\n"
   ]
  },
  {
   "cell_type": "code",
   "execution_count": 28,
   "id": "f8b6816d-2435-4dee-8a05-cdcf3693f0e6",
   "metadata": {},
   "outputs": [
    {
     "name": "stdout",
     "output_type": "stream",
     "text": [
      "['Flat / Apartment' 'Detached Duplex' 'Terraced Duplex'\n",
      " 'Terraced Bungalow' 'Detached Bungalow']\n",
      "['Jahi' 'Guzape District' 'Lugbe District' 'Gudu' 'Maitama District'\n",
      " 'Wuye' 'Life Camp' 'Katampe' 'Asokoro District' 'Gaduwa' 'Karsana'\n",
      " 'Dakibiyu' 'Mabushi' 'Kado' 'Jabi' 'Galadimawa' 'Gwarinpa' 'Apo'\n",
      " 'Idu Industrial' 'Karmo' 'Utako' 'Lokogoma District' 'Wuse' 'Kubwa'\n",
      " 'Wuse 2' 'Kukwaba' 'Garki' 'Mbora (Nbora)' 'Durumi' 'Dakwo' 'Kuje'\n",
      " 'Kaura' 'Kyami' 'Zuba' 'Karu' 'Kabusa' 'Mpape' 'Mararaba' 'Bwari' 'Wumba'\n",
      " 'Wupa' 'Dape' 'Dawaki' 'Central Area Phase 2' 'Nyanya' 'Dutse' 'Karshi'\n",
      " 'Kurudu' 'Orozo' 'Jikwoyi' 'Central Business District' 'Kafe'\n",
      " 'Cultural Zones' 'Gwagwalada']\n"
     ]
    }
   ],
   "source": [
    "# Display unique property types and town names\n",
    "print(df['type'].unique())\n",
    "print(df['town'].unique())\n",
    "\n",
    "\n"
   ]
  },
  {
   "cell_type": "code",
   "execution_count": 29,
   "id": "166a4d91-8769-4c85-8180-d2f92e6bd86a",
   "metadata": {},
   "outputs": [
    {
     "name": "stdout",
     "output_type": "stream",
     "text": [
      "town\n",
      "Jahi                         691\n",
      "Guzape District              655\n",
      "Life Camp                    626\n",
      "Katampe                      586\n",
      "Gwarinpa                     461\n",
      "Asokoro District             355\n",
      "Maitama District             298\n",
      "Wuye                         281\n",
      "Apo                          266\n",
      "Lugbe District               240\n",
      "Gaduwa                       233\n",
      "Jabi                         206\n",
      "Lokogoma District            173\n",
      "Mabushi                      172\n",
      "Kado                         169\n",
      "Galadimawa                   129\n",
      "Durumi                       112\n",
      "Karsana                      107\n",
      "Idu Industrial                94\n",
      "Kubwa                         91\n",
      "Wuse                          83\n",
      "Kaura                         77\n",
      "Wuse 2                        72\n",
      "Garki                         67\n",
      "Karmo                         58\n",
      "Utako                         44\n",
      "Kyami                         37\n",
      "Mbora (Nbora)                 36\n",
      "Kukwaba                       34\n",
      "Dakibiyu                      30\n",
      "Dakwo                         26\n",
      "Gudu                          21\n",
      "Kuje                          10\n",
      "Kabusa                        10\n",
      "Wumba                          9\n",
      "Karu                           8\n",
      "Orozo                          6\n",
      "Dutse                          5\n",
      "Karshi                         5\n",
      "Central Area Phase 2           5\n",
      "Bwari                          5\n",
      "Dape                           4\n",
      "Central Business District      3\n",
      "Kurudu                         3\n",
      "Mpape                          2\n",
      "Mararaba                       2\n",
      "Nyanya                         2\n",
      "Wupa                           2\n",
      "Zuba                           1\n",
      "Dawaki                         1\n",
      "Jikwoyi                        1\n",
      "Kafe                           1\n",
      "Cultural Zones                 1\n",
      "Gwagwalada                     1\n",
      "Name: count, dtype: int64\n"
     ]
    }
   ],
   "source": [
    "# Count the number of listings per town\n",
    "listings_per_town = df['town'].value_counts()\n",
    "\n",
    "# Display the counts\n",
    "print(listings_per_town)\n"
   ]
  },
  {
   "cell_type": "code",
   "execution_count": 30,
   "id": "f67313c7-19fb-4f10-830e-453799e0d91e",
   "metadata": {},
   "outputs": [
    {
     "name": "stdout",
     "output_type": "stream",
     "text": [
      "Index(['Kuje', 'Kabusa', 'Wumba', 'Karu', 'Orozo', 'Dutse', 'Karshi',\n",
      "       'Central Area Phase 2', 'Bwari', 'Dape', 'Central Business District',\n",
      "       'Kurudu', 'Mpape', 'Mararaba', 'Nyanya', 'Wupa', 'Zuba', 'Dawaki',\n",
      "       'Jikwoyi', 'Kafe', 'Cultural Zones', 'Gwagwalada'],\n",
      "      dtype='object', name='town')\n"
     ]
    }
   ],
   "source": [
    "# Identify towns with 20 or fewer listings\n",
    "low_listing_towns = listings_per_town[listings_per_town <= 20].index\n",
    "\n",
    "# Display these towns\n",
    "print(low_listing_towns)\n"
   ]
  },
  {
   "cell_type": "code",
   "execution_count": 31,
   "id": "dd257978-b2fc-463e-971b-0ff721cfbb37",
   "metadata": {},
   "outputs": [
    {
     "name": "stdout",
     "output_type": "stream",
     "text": [
      "town\n",
      "Jahi                 691\n",
      "Guzape District      655\n",
      "Life Camp            626\n",
      "Katampe              586\n",
      "Gwarinpa             461\n",
      "Asokoro District     355\n",
      "Maitama District     298\n",
      "Wuye                 281\n",
      "Apo                  266\n",
      "Lugbe District       240\n",
      "Gaduwa               233\n",
      "Jabi                 206\n",
      "Lokogoma District    173\n",
      "Mabushi              172\n",
      "Kado                 169\n",
      "Galadimawa           129\n",
      "Durumi               112\n",
      "Karsana              107\n",
      "Idu Industrial        94\n",
      "Kubwa                 91\n",
      "Other                 87\n",
      "Wuse                  83\n",
      "Kaura                 77\n",
      "Wuse 2                72\n",
      "Garki                 67\n",
      "Karmo                 58\n",
      "Utako                 44\n",
      "Kyami                 37\n",
      "Mbora (Nbora)         36\n",
      "Kukwaba               34\n",
      "Dakibiyu              30\n",
      "Dakwo                 26\n",
      "Gudu                  21\n",
      "Name: count, dtype: int64\n"
     ]
    }
   ],
   "source": [
    "# Replace town names with 'Other' for towns with 20 or fewer listings\n",
    "df['town'] = df['town'].replace(low_listing_towns, 'Other')\n",
    "\n",
    "# Verify the changes\n",
    "print(df['town'].value_counts())\n"
   ]
  },
  {
   "cell_type": "code",
   "execution_count": 32,
   "id": "23570072-1025-490e-85c3-2a74a7ef3ca1",
   "metadata": {},
   "outputs": [
    {
     "name": "stdout",
     "output_type": "stream",
     "text": [
      "<class 'pandas.core.frame.DataFrame'>\n",
      "Index: 6617 entries, 0 to 7223\n",
      "Data columns (total 6 columns):\n",
      " #   Column         Non-Null Count  Dtype  \n",
      "---  ------         --------------  -----  \n",
      " 0   added_on_year  6617 non-null   int64  \n",
      " 1   type           6617 non-null   object \n",
      " 2   bedrooms       6617 non-null   int64  \n",
      " 3   bathrooms      6617 non-null   float64\n",
      " 4   town           6617 non-null   object \n",
      " 5   price          6617 non-null   float64\n",
      "dtypes: float64(2), int64(2), object(2)\n",
      "memory usage: 361.9+ KB\n",
      "None\n"
     ]
    }
   ],
   "source": [
    "# Drop the 'id' column\n",
    "df = df.drop(columns=['id'])\n",
    "\n",
    "# Verify the changes\n",
    "print(df.info())\n"
   ]
  },
  {
   "cell_type": "code",
   "execution_count": 33,
   "id": "2895c91d-b7ab-44dd-88b5-efece42752dd",
   "metadata": {},
   "outputs": [
    {
     "name": "stdout",
     "output_type": "stream",
     "text": [
      "DataFrame saved as 'cleaned_abuja_listings.csv'. You can now review the file.\n"
     ]
    }
   ],
   "source": [
    "# Save the current state of the DataFrame to a CSV file\n",
    "df.to_csv('cleaned_abuja_listings.csv', index=False)\n",
    "\n",
    "# Confirm the file has been saved\n",
    "print(\"DataFrame saved as 'cleaned_abuja_listings.csv'. You can now review the file.\")\n"
   ]
  },
  {
   "cell_type": "code",
   "execution_count": 34,
   "id": "615be612-b1a5-41dc-9f52-057a386a819f",
   "metadata": {},
   "outputs": [
    {
     "name": "stdout",
     "output_type": "stream",
     "text": [
      "Empty DataFrame\n",
      "Columns: [added_on_year, type, bedrooms, bathrooms, town, price]\n",
      "Index: []\n"
     ]
    }
   ],
   "source": [
    "# Identify listings with zero bedrooms or bathrooms\n",
    "zero_values = df[(df['bedrooms'] == 0) | (df['bathrooms'] == 0)]\n",
    "\n",
    "# Display these listings\n",
    "print(zero_values)\n"
   ]
  },
  {
   "cell_type": "code",
   "execution_count": 35,
   "id": "565f0520-5d4d-433a-b6de-39090d7190ae",
   "metadata": {},
   "outputs": [
    {
     "name": "stdout",
     "output_type": "stream",
     "text": [
      "      added_on_year              type  bedrooms  bathrooms              town  \\\n",
      "0              2025  Flat / Apartment         3        4.0              Jahi   \n",
      "5              2025   Terraced Duplex         4        5.0              Jahi   \n",
      "7              2024   Terraced Duplex         4        5.0              Gudu   \n",
      "9              2025   Terraced Duplex         4        5.0              Wuye   \n",
      "11             2025   Terraced Duplex         4        5.0              Jahi   \n",
      "...             ...               ...       ...        ...               ...   \n",
      "7216           2023  Flat / Apartment         3        4.0              Wuye   \n",
      "7217           2023   Detached Duplex         9       10.0  Maitama District   \n",
      "7218           2023   Terraced Duplex         4        5.0  Maitama District   \n",
      "7220           2023   Detached Duplex         4        5.0               Apo   \n",
      "7223           2023   Terraced Duplex         5        6.0  Asokoro District   \n",
      "\n",
      "             price  \n",
      "0     1.300000e+08  \n",
      "5     2.150000e+08  \n",
      "7     1.400000e+08  \n",
      "9     2.400000e+08  \n",
      "11    3.100000e+08  \n",
      "...            ...  \n",
      "7216  6.500000e+07  \n",
      "7217  2.500000e+09  \n",
      "7218  4.500000e+08  \n",
      "7220  9.000000e+07  \n",
      "7223  1.600000e+09  \n",
      "\n",
      "[2052 rows x 6 columns]\n"
     ]
    }
   ],
   "source": [
    "# Identify logical inconsistencies\n",
    "inconsistencies = df[df['bathrooms'] > df['bedrooms']]\n",
    "\n",
    "# Display these listings\n",
    "print(inconsistencies)\n"
   ]
  },
  {
   "cell_type": "code",
   "execution_count": 38,
   "id": "307bdd75-05b3-48e5-a1d6-d6af1fc7f841",
   "metadata": {},
   "outputs": [
    {
     "name": "stdout",
     "output_type": "stream",
     "text": [
      "      added_on_year             type  bedrooms  bathrooms              town  \\\n",
      "608            2025  Detached Duplex         5        9.0              Kado   \n",
      "779            2025  Detached Duplex         4        8.0             Garki   \n",
      "2779           2024  Detached Duplex         4        8.0  Maitama District   \n",
      "4367           2024  Terraced Duplex         4        8.0              Jahi   \n",
      "6370           2024  Detached Duplex         6       10.0          Gwarinpa   \n",
      "6656           2024  Detached Duplex         5       10.0          Gwarinpa   \n",
      "6756           2024  Detached Duplex         4        9.0   Guzape District   \n",
      "7113           2023  Detached Duplex         4        8.0            Wuse 2   \n",
      "\n",
      "             price  \n",
      "608   7.500000e+08  \n",
      "779   3.650000e+08  \n",
      "2779  9.500000e+08  \n",
      "4367  2.800000e+08  \n",
      "6370  6.500000e+08  \n",
      "6656  2.500000e+08  \n",
      "6756  2.500000e+09  \n",
      "7113  1.300000e+09  \n"
     ]
    }
   ],
   "source": [
    "# Identify listings with a larger difference (e.g., more than 1 unit) between bedrooms and bathrooms\n",
    "larger_discrepancy = df[df['bathrooms'] - df['bedrooms'] > 3]\n",
    "\n",
    "# Display these listings\n",
    "print(larger_discrepancy)\n"
   ]
  },
  {
   "cell_type": "code",
   "execution_count": 39,
   "id": "a57865de-0af1-487f-97dd-792352378bbf",
   "metadata": {},
   "outputs": [
    {
     "name": "stdout",
     "output_type": "stream",
     "text": [
      "(6591, 6)\n",
      "       added_on_year     bedrooms    bathrooms         price\n",
      "count    6591.000000  6591.000000  6591.000000  6.591000e+03\n",
      "mean     2024.080564     4.302989     4.628129  1.089935e+09\n",
      "std         0.521789     1.316749     1.436546  2.440994e+10\n",
      "min      2023.000000     1.000000     1.000000  1.100000e+05\n",
      "25%      2024.000000     4.000000     4.000000  1.350000e+08\n",
      "50%      2024.000000     4.000000     5.000000  2.500000e+08\n",
      "75%      2024.000000     5.000000     5.000000  4.675000e+08\n",
      "max      2025.000000     9.000000    10.000000  1.400000e+12\n"
     ]
    }
   ],
   "source": [
    "# Drop listings with a difference of more than 2 between bedrooms and bathrooms\n",
    "df = df[(df['bathrooms'] - df['bedrooms'] <= 2)]\n",
    "\n",
    "# Verify the changes\n",
    "print(df.shape)\n",
    "print(df.describe())\n"
   ]
  },
  {
   "cell_type": "code",
   "execution_count": 40,
   "id": "afae82f9-a788-4281-863d-bb02c98913e0",
   "metadata": {},
   "outputs": [
    {
     "name": "stdout",
     "output_type": "stream",
     "text": [
      "DataFrame saved as 'cleaned_abuja_listings.csv'. You can now review the file.\n"
     ]
    }
   ],
   "source": [
    "# Save the current state of the DataFrame to a CSV file\n",
    "df.to_csv('cleaned_abuja_listings.csv', index=False)\n",
    "\n",
    "# Confirm the file has been saved\n",
    "print(\"DataFrame saved as 'cleaned_abuja_listings.csv'. You can now review the file.\")\n"
   ]
  },
  {
   "cell_type": "code",
   "execution_count": 41,
   "id": "31d7187f-db59-4eba-82a9-95490cbb9f19",
   "metadata": {},
   "outputs": [
    {
     "name": "stdout",
     "output_type": "stream",
     "text": [
      "added_on_year      int64\n",
      "type              object\n",
      "bedrooms           int64\n",
      "bathrooms        float64\n",
      "town              object\n",
      "price            float64\n",
      "dtype: object\n"
     ]
    }
   ],
   "source": [
    "# Check data types of each column\n",
    "print(df.dtypes)\n"
   ]
  },
  {
   "cell_type": "code",
   "execution_count": 42,
   "id": "546eeabd-3e1d-4c5e-bbff-4f44355d17a1",
   "metadata": {},
   "outputs": [
    {
     "name": "stdout",
     "output_type": "stream",
     "text": [
      "Empty DataFrame\n",
      "Columns: [added_on_year, type, bedrooms, bathrooms, town, price]\n",
      "Index: []\n"
     ]
    }
   ],
   "source": [
    "# Identify listings with zero bedrooms or bathrooms\n",
    "zero_values = df[(df['bedrooms'] == 0) | (df['bathrooms'] == 0)]\n",
    "\n",
    "# Display these listings\n",
    "print(zero_values)\n"
   ]
  },
  {
   "cell_type": "code",
   "execution_count": 43,
   "id": "6d374427-5632-45e8-9707-09167feff829",
   "metadata": {},
   "outputs": [
    {
     "name": "stdout",
     "output_type": "stream",
     "text": [
      "added_on_year    0\n",
      "type             0\n",
      "bedrooms         0\n",
      "bathrooms        0\n",
      "town             0\n",
      "price            0\n",
      "dtype: int64\n"
     ]
    }
   ],
   "source": [
    "# Check for missing values\n",
    "print(df.isnull().sum())\n"
   ]
  },
  {
   "cell_type": "code",
   "execution_count": 44,
   "id": "92d452da-86f7-4111-8bc9-52ff562f8458",
   "metadata": {},
   "outputs": [
    {
     "data": {
      "image/png": "[encoded data removed]",
      "text/plain": [
       "<Figure size 1000x600 with 1 Axes>"
      ]
     },
     "metadata": {},
     "output_type": "display_data"
    }
   ],
   "source": [
    "import seaborn as sns\n",
    "import matplotlib.pyplot as plt\n",
    "\n",
    "# Visualize the distribution of property prices\n",
    "plt.figure(figsize=(10, 6))\n",
    "sns.boxplot(x=df['price'])\n",
    "plt.title('Box Plot of Property Prices')\n",
    "plt.xlabel('Price')\n",
    "plt.show()\n"
   ]
  },
  {
   "cell_type": "code",
   "execution_count": 45,
   "id": "43d0a3bf-47d9-45a8-8530-0d9d077af3bc",
   "metadata": {},
   "outputs": [
    {
     "name": "stdout",
     "output_type": "stream",
     "text": [
      "      added_on_year             type  bedrooms  bathrooms              town  \\\n",
      "1              2025  Detached Duplex         6        6.0   Guzape District   \n",
      "12             2025  Detached Duplex         7        9.0   Guzape District   \n",
      "17             2025  Detached Duplex         7        9.0   Guzape District   \n",
      "22             2025  Terraced Duplex         5        5.0  Asokoro District   \n",
      "27             2025  Detached Duplex         7        7.0              Wuye   \n",
      "...             ...              ...       ...        ...               ...   \n",
      "7174           2023  Detached Duplex         5        6.0           Katampe   \n",
      "7193           2023  Detached Duplex         9       10.0  Maitama District   \n",
      "7199           2023  Terraced Duplex         5        6.0  Asokoro District   \n",
      "7217           2023  Detached Duplex         9       10.0  Maitama District   \n",
      "7223           2023  Terraced Duplex         5        6.0  Asokoro District   \n",
      "\n",
      "             price  \n",
      "1     2.000000e+09  \n",
      "12    2.300000e+09  \n",
      "17    2.300000e+09  \n",
      "22    1.300000e+09  \n",
      "27    1.500000e+09  \n",
      "...            ...  \n",
      "7174  1.200000e+09  \n",
      "7193  2.500000e+09  \n",
      "7199  1.600000e+09  \n",
      "7217  2.500000e+09  \n",
      "7223  1.600000e+09  \n",
      "\n",
      "[677 rows x 6 columns]\n"
     ]
    }
   ],
   "source": [
    "# Calculate the first quartile (Q1) and the third quartile (Q3)\n",
    "Q1 = df['price'].quantile(0.25)\n",
    "Q3 = df['price'].quantile(0.75)\n",
    "\n",
    "# Calculate the interquartile range (IQR)\n",
    "IQR = Q3 - Q1\n",
    "\n",
    "# Define the lower and upper bound for outliers\n",
    "lower_bound = Q1 - 1.5 * IQR\n",
    "upper_bound = Q3 + 1.5 * IQR\n",
    "\n",
    "# Identify outliers\n",
    "outliers = df[(df['price'] < lower_bound) | (df['price'] > upper_bound)]\n",
    "\n",
    "# Display the outliers\n",
    "print(outliers)\n"
   ]
  },
  {
   "cell_type": "code",
   "execution_count": null,
   "id": "f33424ef-b1a4-4c23-bd1b-22f0ddfabf04",
   "metadata": {},
   "outputs": [],
   "source": []
  }
 ],
 "metadata": {
  "kernelspec": {
   "display_name": "Python 3 (ipykernel)",
   "language": "python",
   "name": "python3"
  },
  "language_info": {
   "codemirror_mode": {
    "name": "ipython",
    "version": 3
   },
   "file_extension": ".py",
   "mimetype": "text/x-python",
   "name": "python",
   "nbconvert_exporter": "python",
   "pygments_lexer": "ipython3",
   "version": "3.12.4"
  }
 },
 "nbformat": 4,
 "nbformat_minor": 5
}
